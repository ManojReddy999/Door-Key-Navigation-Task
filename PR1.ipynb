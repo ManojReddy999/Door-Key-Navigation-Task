{
 "cells": [
  {
   "cell_type": "code",
   "execution_count": 92,
   "metadata": {
    "metadata": {}
   },
   "outputs": [],
   "source": [
    "from utils import *\n",
    "# from example import example_use_of_gym_env\n",
    "\n",
    "MF = 0  # Move Forward\n",
    "TL = 1  # Turn Left\n",
    "TR = 2  # Turn Right\n",
    "PK = 3  # Pickup Key\n",
    "UD = 4  # Unlock Door"
   ]
  },
  {
   "cell_type": "code",
   "execution_count": 59,
   "metadata": {
    "metadata": {}
   },
   "outputs": [
    {
     "name": "stdout",
     "output_type": "stream",
     "text": [
      "<Environment Info>\n",
      "\n",
      "{'height': 8, 'width': 8, 'init_agent_pos': (3, 5), 'init_agent_dir': array([ 0, -1]), 'door_pos': [array([4, 2]), array([4, 5])], 'door_open': [False, True], 'key_pos': array([1, 1]), 'goal_pos': array([5, 1])}\n"
     ]
    }
   ],
   "source": [
    "env_path = \"envs/random_envs/example-8x8.env\"\n",
    "# env, info = load_env(env_path) # load an environment\n",
    "\n",
    "env, info = load_env(env_path)\n",
    "cell = env.grid.get(info[\"goal_pos\"][0], info[\"goal_pos\"][1])\n",
    "print(\"<Environment Info>\\n\")\n",
    "print(info)  # Map size"
   ]
  },
  {
   "cell_type": "code",
   "execution_count": 6,
   "metadata": {},
   "outputs": [],
   "source": [
    "height = info['height']\n",
    "width = info['width']\n",
    "key_pos = info['key_pos']\n",
    "door_pos = info['door_pos']\n",
    "goal_pos = info['goal_pos']"
   ]
  },
  {
   "cell_type": "code",
   "execution_count": 417,
   "metadata": {
    "metadata": {}
   },
   "outputs": [],
   "source": [
    "def motion_model(env,state,action):\n",
    "    x,y,orientation,k,d = state\n",
    "    # x,y,k,d = int(x),int(y),int(k),int(d)\n",
    "    \n",
    "    move = {'N': (0, -1), 'E': (1, 0), 'S': (0, 1), 'W': (-1, 0)}\n",
    "    dx, dy = move[orientation]\n",
    "    # new_x,new_y = env.front_pos[0],env.front_pos[1]\n",
    "\n",
    "    if 0 <= x+dx < env.grid.width and 0 <= y+dy < env.grid.height:\n",
    "        if action == MF:\n",
    "            if env.grid.get(x+dx,y+dy) is not None and env.grid.get(x+dx,y+dy).type == 'wall':\n",
    "                return state\n",
    "            elif env.grid.get(x+dx,y+dy) is not None and env.grid.get(x+dx, y+dy).type == 'door' and d == 0:\n",
    "                return state\n",
    "            else:\n",
    "                return (x+dx, y+dy, orientation,k,d)\n",
    "        \n",
    "        elif action in [TL, TR]:\n",
    "            if action == TL:\n",
    "                new_orientation = {'N': 'W', 'W': 'S', 'S': 'E', 'E': 'N'}\n",
    "            else:\n",
    "                new_orientation = {'N': 'E', 'E': 'S', 'S': 'W', 'W': 'N'}\n",
    "            return (x, y, new_orientation[orientation],k,d)\n",
    "        \n",
    "        elif action == PK and env.grid.get(x+dx,y+dy) is not None and env.grid.get(x+dx, y+dy).type == 'key' and k == 0:\n",
    "            return (x,y,orientation,1,d)\n",
    "        elif action == UD and env.grid.get(x+dx,y+dy) is not None and env.grid.get(x+dx, y+dy).type == 'door' and k == 1 and d == 0:\n",
    "            return (x,y,orientation,k,1)\n",
    "        else:\n",
    "            return (x, y, orientation,k,d)    \n",
    "    else:\n",
    "        return (x, y, orientation,k,d)"
   ]
  },
  {
   "cell_type": "code",
   "execution_count": 418,
   "metadata": {
    "metadata": {}
   },
   "outputs": [],
   "source": [
    "def doorkey_problem(env,info):\n",
    "    \"\"\"\n",
    "    You are required to find the optimal path in\n",
    "        doorkey-5x5-normal.env\n",
    "        doorkey-6x6-normal.env\n",
    "        doorkey-8x8-normal.env\n",
    "\n",
    "        doorkey-6x6-direct.env\n",
    "        doorkey-8x8-direct.env\n",
    "\n",
    "        doorkey-6x6-shortcut.env\n",
    "        doorkey-8x8-shortcut.env\n",
    "\n",
    "    Feel Free to modify this fuction\n",
    "    \"\"\"\n",
    "\n",
    "    height = env.unwrapped.height\n",
    "    width = env.unwrapped.width\n",
    "\n",
    "    orientation = ['E','W','N','S']\n",
    "\n",
    "    X = [(x,y,o,k,d) for x in range(1,height-1) for y in range(1,width-1) for o in orientation for k in range(2) for d in range(2)]\n",
    "    U = {MF,TR,TL,PK,UD}\n",
    "\n",
    "    VT = {state: np.inf for state in X}\n",
    "    for state in X:\n",
    "        if np.all((state[0], state[1]) == info['goal_pos']): #and state[-1] == 1:\n",
    "            VT[state] = 0\n",
    "\n",
    "    # stage_cost = 1\n",
    "    stage_cost = {state: 1 for state in X}\n",
    "    for state in X:\n",
    "        if np.all((state[0], state[1]) == info['goal_pos']): #and state[-1] == 1:\n",
    "            stage_cost[state] = 0\n",
    "\n",
    "    policy = {}\n",
    "    for t in range(20,-1,-1):\n",
    "        for state in X:\n",
    "            # if np.all((state[0], state[1]) == info['goal_pos']) and state[-1] == 1:\n",
    "            #     continue\n",
    "            Q = {}\n",
    "            for action in U:\n",
    "                Q[action] = stage_cost[state] + VT[motion_model(env,state,action)]\n",
    "            min_action = min(Q,key = Q.get)\n",
    "            VT[state] = min(Q.values())\n",
    "            policy[state] = min_action\n",
    "    \n",
    "    initial_position = info['init_agent_pos']\n",
    "    init_orientation = info['init_agent_dir']\n",
    "    door = env.grid.get(info[\"door_pos\"][0], info[\"door_pos\"][1])\n",
    "    orient = {(0, -1) : 'N', (1, 0) : 'E', (0, 1) : 'S', (-1, 0) : 'W'}\n",
    "    if env.carrying is None:\n",
    "        k = 0\n",
    "    else:\n",
    "        k = 1\n",
    "    \n",
    "    if door.is_open:\n",
    "        d = 1\n",
    "    else:\n",
    "        d = 0\n",
    "\n",
    "    current_state = (initial_position[0],initial_position[1],orient[(init_orientation[0],init_orientation[1])],k,d)\n",
    "    path = [current_state]\n",
    "    actions = []\n",
    "\n",
    "    while np.any((current_state[0], current_state[1]) != info['goal_pos']):\n",
    "        action = policy[current_state]\n",
    "        actions.append(action)\n",
    "        current_state = motion_model(env, current_state, action)\n",
    "        path.append(current_state)\n",
    "\n",
    "    return actions"
   ]
  },
  {
   "cell_type": "code",
   "execution_count": null,
   "metadata": {
    "metadata": {}
   },
   "outputs": [],
   "source": [
    "action_map = {\n",
    "    0: 'MF',  # Move Forward\n",
    "    1: 'TL',  # Turn Left\n",
    "    2: 'TR',  # Turn Right\n",
    "    3: 'PK',  # Pickup Key\n",
    "    4: 'UD'   # Unlock Door\n",
    "}\n",
    "\n",
    "env_list = [os.path.join('envs/known_envs', env_file) for env_file in os.listdir('envs/known_envs') if env_file.endswith('.env')]\n",
    "sequences = []\n",
    "for i in env_list:\n",
    "    env,info = load_env(i)\n",
    "    sequence = doorkey_problem(env,info)\n",
    "    name = i[len(\"envs/known_envs/doorkey-\"):-len(\".env\")]\n",
    "    draw_gif_from_seq(sequence,env,\"./gif/\"+name+\".gif\")\n",
    "    sequence = [action_map[num] for num in sequence]\n",
    "    sequences.append(sequence)\n",
    "    print(sequence)"
   ]
  },
  {
   "cell_type": "code",
   "execution_count": 420,
   "metadata": {},
   "outputs": [
    {
     "name": "stdout",
     "output_type": "stream",
     "text": [
      "GIF is written to ./gif/8x8-direct-forced.gif\n",
      "['MF', 'TL', 'MF', 'MF', 'MF', 'TL', 'MF']\n"
     ]
    }
   ],
   "source": [
    "action_map = {\n",
    "    0: 'MF',  # Move Forward\n",
    "    1: 'TL',  # Turn Left\n",
    "    2: 'TR',  # Turn Right\n",
    "    3: 'PK',  # Pickup Key\n",
    "    4: 'UD'   # Unlock Door\n",
    "}\n",
    "\n",
    "# env_list = [os.path.join('envs/known_envs', env_file) for env_file in os.listdir('envs/known_envs') if env_file.endswith('.env')]\n",
    "# sequences = []\n",
    "# for i in env_list:\n",
    "env,info = load_env(\"envs/known_envs/doorkey-8x8-direct.env\")\n",
    "sequence = doorkey_problem(env,info)\n",
    "# name = [len(\"envs/known_envs/doorkey-\"):-len(\".env\")]\n",
    "draw_gif_from_seq(sequence,env,\"./gif/\"+\"8x8-direct-forced\"+\".gif\")\n",
    "sequence = [action_map[num] for num in sequence]\n",
    "sequences.append(sequence)\n",
    "print(sequence)"
   ]
  },
  {
   "cell_type": "code",
   "execution_count": 397,
   "metadata": {},
   "outputs": [],
   "source": [
    "from PIL import Image\n",
    "\n",
    "def extract_frames_from_gif(gif_path, output_folder):\n",
    "    if not os.path.exists(output_folder):\n",
    "        os.makedirs(output_folder, exist_ok=True)\n",
    "    \n",
    "    with Image.open(gif_path) as img:\n",
    "        # Check if the image is animated (i.e., has multiple frames)\n",
    "        if not img.is_animated:\n",
    "            print(f\"The image is not animated.\")\n",
    "            return\n",
    "\n",
    "        frame_count = img.n_frames\n",
    "        for i in range(frame_count):\n",
    "            img.seek(i)  # Move to the frame index i\n",
    "            img.save(f'{output_folder}/frame_{i:03d}.png')  # Save frame as PNG\n",
    "\n",
    "# Example usage\n",
    "# gif_path = 'gif/8x8-direct.gif'\n",
    "# output_folder = '/home/mmkr/Documents/ECE276B_PR1/starter_code/Images/8x8-direct'\n",
    "# extract_frames_from_gif(gif_path, output_folder)\n"
   ]
  },
  {
   "cell_type": "code",
   "execution_count": 415,
   "metadata": {},
   "outputs": [],
   "source": [
    "gif_path = 'gif/8x8-direct-forced.gif'\n",
    "output_folder = '/home/mmkr/Documents/ECE276B_PR1/starter_code/Images/8x8-direct-forced'\n",
    "extract_frames_from_gif(gif_path, output_folder)"
   ]
  },
  {
   "cell_type": "code",
   "execution_count": 43,
   "metadata": {},
   "outputs": [],
   "source": [
    "def motion_model_B(state,action,doors = [(4,2),(4,5)],keys = [(1, 1), (2, 3), (1, 6)],wall = [(4,0),(4,1),(4,3),(4,4),(4,6),(4,7)]):\n",
    "    x,y,orientation,k,d0,d1,ki,gi = state\n",
    "    # x,y,k,d = int(x),int(y),int(k),int(d)\n",
    "    \n",
    "    move = {'N': (0, -1), 'E': (1, 0), 'S': (0, 1), 'W': (-1, 0)}\n",
    "    dx, dy = move[orientation]\n",
    "    # new_x,new_y = env.front_pos[0],env.front_pos[1]\n",
    "\n",
    "    if 0 <= x+dx < 8 and 0 <= y+dy < 8:\n",
    "        if action == MF:\n",
    "            if (x+dx,y+dy) in wall:\n",
    "                return state\n",
    "            elif ((x+dx,y+dy) == doors[0] and d0 == 0) or ((x+dx,y+dy) == doors[1] and d1 == 0):\n",
    "                return state\n",
    "            else:\n",
    "                return (x+dx,y+dy,orientation,k,d0,d1,ki,gi) \n",
    "        \n",
    "        elif action in [TL, TR]:\n",
    "            if action == TL:\n",
    "                new_orientation = {'N': 'W', 'W': 'S', 'S': 'E', 'E': 'N'}\n",
    "            else:\n",
    "                new_orientation = {'N': 'E', 'E': 'S', 'S': 'W', 'W': 'N'}\n",
    "            return (x, y, new_orientation[orientation],k,d0,d1,ki,gi)\n",
    "        \n",
    "        elif action == PK and k == 0 and (x+dx,y+dy) == keys[ki]:\n",
    "            return (x,y,orientation,1,d0,d1,ki,gi)\n",
    "        elif action == UD and k == 1:\n",
    "            if (d0 == 0 and (x+dx,y+dy) == doors[0]):\n",
    "                return (x,y,orientation,k,1,d1,ki,gi)\n",
    "            elif (d1 == 0 and (x+dx,y+dy) == doors[1]):\n",
    "                return (x,y,orientation,k,d0,1,ki,gi)\n",
    "            else:\n",
    "                return state\n",
    "        else:\n",
    "            return state   \n",
    "    else:\n",
    "        return state"
   ]
  },
  {
   "cell_type": "code",
   "execution_count": 95,
   "metadata": {},
   "outputs": [],
   "source": [
    "goals = [(5, 1), (6, 3), (5, 6)]\n",
    "\n",
    "orientation = ['E','W','N','S']\n",
    "X = [(x,y,o,k,d0,d1,ki,gi) for x in range(0,8) for y in range(0,8) for o in orientation for k in range(2) for d0 in range(2) for d1 in range(2) for ki in range(3) for gi in range(3)]\n",
    "U = {MF,TR,TL,PK,UD}\n",
    "\n",
    "VT = {state: np.inf for state in X}\n",
    "for state in X:\n",
    "    if np.all((state[0], state[1]) == goals[state[-1]]): # and (state[4] == 1 or state[5] == 1):\n",
    "        VT[state] = 0\n",
    "\n",
    "# stage_cost = 1\n",
    "stage_cost = {state: 1 for state in X}\n",
    "for state in X:\n",
    "    if np.all((state[0], state[1]) == goals[state[-1]]): # and (state[4] == 1 or state[5] == 1):\n",
    "        stage_cost[state] = 0\n",
    "\n",
    "policy_B = {state:None for state in X}\n",
    "for t in range(100,-1,-1):\n",
    "    for state in X:\n",
    "        Q = {}\n",
    "        for action in U:\n",
    "            Q[action] = stage_cost[state] + VT[motion_model_B(state,action)]\n",
    "        min_action = min(Q,key = Q.get)\n",
    "        VT[state] = min(Q.values())\n",
    "        policy_B[state] = min_action"
   ]
  },
  {
   "cell_type": "code",
   "execution_count": 124,
   "metadata": {},
   "outputs": [],
   "source": [
    "def Part_B(policy,info,keys = [(1, 1), (2, 3), (1, 6)],goals = [(5, 1), (6, 3), (5, 6)]):\n",
    "    \n",
    "    initial_position = info['init_agent_pos']\n",
    "    init_orientation = info['init_agent_dir']\n",
    "    orient = {(0, -1) : 'N', (1, 0) : 'E', (0, 1) : 'S', (-1, 0) : 'W'}\n",
    "\n",
    "    if info['door_open'][0]:\n",
    "        d0 = 1\n",
    "    else:\n",
    "        d0 = 0\n",
    "\n",
    "    if info['door_open'][1]:\n",
    "        d1 = 1\n",
    "    else:\n",
    "        d1 = 0\n",
    "\n",
    "    for i in range(3):\n",
    "        if np.all(info['key_pos'] == keys[i]):\n",
    "            ki = i\n",
    "    \n",
    "    for j in range(3):\n",
    "        if np.all(info['goal_pos'] == goals[j]):\n",
    "            gi = j\n",
    "    \n",
    "    current_state = (initial_position[0],initial_position[1],orient[(init_orientation[0],init_orientation[1])],0,d0,d1,ki,gi)\n",
    "    path = [current_state]\n",
    "    actions = []\n",
    "\n",
    "    while np.any((current_state[0], current_state[1]) != info['goal_pos']):\n",
    "        action = policy[current_state]\n",
    "        actions.append(action)\n",
    "        current_state = motion_model_B(current_state, action)\n",
    "        path.append(current_state)\n",
    "\n",
    "    return actions"
   ]
  },
  {
   "cell_type": "code",
   "execution_count": 88,
   "metadata": {},
   "outputs": [],
   "source": [
    "sequences_B = {}"
   ]
  },
  {
   "cell_type": "code",
   "execution_count": 357,
   "metadata": {},
   "outputs": [
    {
     "name": "stdout",
     "output_type": "stream",
     "text": [
      "{'height': 8, 'width': 8, 'init_agent_pos': (3, 5), 'init_agent_dir': array([ 0, -1]), 'door_pos': [array([4, 2]), array([4, 5])], 'door_open': [True, True], 'key_pos': array([1, 6]), 'goal_pos': array([5, 6])} envs/random_envs/DoorKey-8x8-33.env\n",
      "GIF is written to ./gif/random_gifs/-8x8-33.gif\n",
      "['TR', 'MF', 'MF', 'TR', 'MF']\n"
     ]
    }
   ],
   "source": [
    "action_map = {\n",
    "    0: 'MF',  # Move Forward\n",
    "    1: 'TL',  # Turn Left\n",
    "    2: 'TR',  # Turn Right\n",
    "    3: 'PK',  # Pickup Key\n",
    "    4: 'UD'   # Unlock Door\n",
    "}\n",
    "\n",
    "# env_list = [os.path.join('envs/random_envs', env_file) for env_file in os.listdir('envs/random_envs') if env_file.endswith('.env')]\n",
    "# sequences_B = []\n",
    "\n",
    "env_folder = \"envs/random_envs\"\n",
    "\n",
    "env, info, env_path = load_random_env(env_folder)\n",
    "\n",
    "print(info,env_path)\n",
    "sequence = Part_B(policy_B,info)\n",
    "name = env_path[len(\"envs/known_envs/doorkey-\"):-len(\".env\")]\n",
    "draw_gif_from_seq(sequence,env,\"./gif/random_gifs/\"+name+\".gif\")\n",
    "sequence = [action_map[num] for num in sequence]\n",
    "sequences_B[name] = sequence\n",
    "print(sequence)"
   ]
  },
  {
   "cell_type": "code",
   "execution_count": 396,
   "metadata": {},
   "outputs": [
    {
     "name": "stdout",
     "output_type": "stream",
     "text": [
      "['TL', 'MF', 'MF', 'TL', 'PK', 'TL', 'MF', 'MF', 'UD', 'MF', 'MF', 'TR', 'MF']\n"
     ]
    }
   ],
   "source": [
    "print(sequences_B['-8x8-36'])"
   ]
  },
  {
   "cell_type": "code",
   "execution_count": 411,
   "metadata": {},
   "outputs": [],
   "source": [
    "# Example usage\n",
    "gif_path = 'gif/random_gifs/-8x8-11.gif'\n",
    "output_folder = '/home/mmkr/Documents/ECE276B_PR1/starter_code/Images/random-8x8-11'\n",
    "extract_frames_from_gif(gif_path, output_folder)"
   ]
  },
  {
   "cell_type": "code",
   "execution_count": 88,
   "metadata": {},
   "outputs": [
    {
     "name": "stdout",
     "output_type": "stream",
     "text": [
      "0\n",
      "(3, 4, 'N', 0, 1, 1, 0, 0) 0\n",
      "(3, 3, 'N', 0, 1, 1, 0, 0) 0\n",
      "(3, 2, 'N', 0, 1, 1, 0, 0) 2\n",
      "(3, 2, 'E', 0, 1, 1, 0, 0) 0\n",
      "(4, 2, 'E', 0, 1, 1, 0, 0) 0\n",
      "(5, 2, 'E', 0, 1, 1, 0, 0) 1\n",
      "(5, 2, 'N', 0, 1, 1, 0, 0) 0\n",
      "(5, 1, 'N', 0, 1, 1, 0, 0) None\n"
     ]
    }
   ],
   "source": [
    "doors = [(4,2),(4,5)]\n",
    "wall = [(4,0),(4,1),(4,3),(4,4),(4,6),(4,7)]\n",
    "goals = [(5, 1), (6, 3), (5, 6)]\n",
    "keys = [(1, 1), (2, 3), (1, 6)]\n",
    "\n",
    "initial_state_b = (3,5,'N',1,1,0,0,0)\n",
    "step1 = motion_model_B(initial_state_b,TR,doors,keys,wall)\n",
    "step2 = motion_model_B(step1,UD,doors,keys,wall)\n",
    "# step3 = motion_model_B(step2,MF,doors,keys,goals,wall)\n",
    "# step4 = motion_model_B(step3,TL,doors,keys,goals,wall)\n",
    "# step5 = motion_model_B(step4,MF,doors,keys,goals,wall)\n",
    "\n",
    "print(step2)\n",
    "\n",
    "initial_state_b = (3,5,'N',0,1,1,0,0)\n",
    "print(policy[initial_state_b])\n",
    "step1 = motion_model_B(initial_state_b,policy[initial_state_b],doors,keys,wall)\n",
    "print(step1,policy[step1])\n",
    "step2 = motion_model_B(step1,policy[step1],doors,keys,wall)\n",
    "print(step2,policy[step2])\n",
    "step3 = motion_model_B(step2,policy[step2],doors,keys,wall)\n",
    "print(step3,policy[step3])\n",
    "step4 = motion_model_B(step3,policy[step3],doors,keys,wall)\n",
    "print(step4,policy[step4])\n",
    "step5 = motion_model_B(step4,policy[step4],doors,keys,wall)\n",
    "print(step5,policy[step5])\n",
    "step6 = motion_model_B(step5,policy[step5],doors,keys,wall)\n",
    "print(step6,policy[step6])\n",
    "step7 = motion_model_B(step6,policy[step6],doors,keys,wall)\n",
    "print(step7,policy[step7])\n",
    "step8 = motion_model_B(step7,policy[step7],doors,keys,wall)\n",
    "print(step8,policy[step8])"
   ]
  }
 ],
 "metadata": {
  "kernelspec": {
   "display_name": "Python 3",
   "language": "python",
   "name": "python3"
  },
  "language_info": {
   "codemirror_mode": {
    "name": "ipython",
    "version": 3
   },
   "file_extension": ".py",
   "mimetype": "text/x-python",
   "name": "python",
   "nbconvert_exporter": "python",
   "pygments_lexer": "ipython3",
   "version": "3.10.12"
  }
 },
 "nbformat": 4,
 "nbformat_minor": 2
}
